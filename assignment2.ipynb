{
 "cells": [
  {
   "cell_type": "markdown",
   "id": "77c51672",
   "metadata": {},
   "source": [
    "<h1> ASSIGNMENT 2<h1>"
   ]
  },
  {
   "cell_type": "markdown",
   "id": "2ace55d9",
   "metadata": {},
   "source": [
    "1. Question 1:\n",
    "Create a variable age and assign it the value 25 . Then print the value of\n",
    "age along with its data type using the type() function.\n"
   ]
  },
  {
   "cell_type": "code",
   "execution_count": 1,
   "id": "d733bfe5",
   "metadata": {},
   "outputs": [
    {
     "name": "stdout",
     "output_type": "stream",
     "text": [
      "data type of age variable : <class 'int'> value of age is 25\n"
     ]
    }
   ],
   "source": [
    "age=25\n",
    "\n",
    "print(\"data type of age variable :\",type(age),f\"value of age is {age}\")"
   ]
  },
  {
   "cell_type": "markdown",
   "id": "f3e24768",
   "metadata": {},
   "source": [
    "2. Question 2:\n",
    "Assign the number 12.5 to a variable price . Print both the variable and its\n",
    "data type. Then assign the value 12 to the same variable and print its data\n",
    "type again. What do you observe?"
   ]
  },
  {
   "cell_type": "code",
   "execution_count": 2,
   "id": "ed40f4dc",
   "metadata": {},
   "outputs": [
    {
     "name": "stdout",
     "output_type": "stream",
     "text": [
      "<class 'float'> price value is 12.5\n",
      "<class 'int'> price value is 12\n"
     ]
    }
   ],
   "source": [
    "price=12.5\n",
    "print(type(price),\"price value is\",price)\n",
    "\n",
    "price=12\n",
    "print(type(price),\"price value is\",price)\n"
   ]
  },
  {
   "cell_type": "markdown",
   "id": "5b8ff54c",
   "metadata": {},
   "source": [
    "3. Question 3:\n",
    "Create a variable is_raining and set it to True . Print the value of the variable\n",
    "along with its type. Then set is_raining to False and print the new value and\n",
    "type."
   ]
  },
  {
   "cell_type": "code",
   "execution_count": 3,
   "id": "bb281691",
   "metadata": {},
   "outputs": [
    {
     "name": "stdout",
     "output_type": "stream",
     "text": [
      "<class 'bool'> variable is_raining: True\n"
     ]
    }
   ],
   "source": [
    "is_raining=True\n",
    "print(type(is_raining),f\"variable is_raining: {is_raining}\")"
   ]
  },
  {
   "cell_type": "markdown",
   "id": "21cb86ea",
   "metadata": {},
   "source": [
    "4. Question 4:\n",
    "Create a variable my_name and store your full name in it as a string. Then\n",
    "print the value of my_name using single quotes ' ."
   ]
  },
  {
   "cell_type": "code",
   "execution_count": 4,
   "id": "4ee901c5",
   "metadata": {},
   "outputs": [
    {
     "name": "stdout",
     "output_type": "stream",
     "text": [
      "my_name\n"
     ]
    }
   ],
   "source": [
    "my_name=\"harshad kisan shitole\"\n",
    "print('my_name')"
   ]
  },
  {
   "cell_type": "markdown",
   "id": "bbecf09b",
   "metadata": {},
   "source": [
    "5. Question 5:\n",
    "Write a Python program that asks the user for their name and age using the\n",
    "input() function. Store the inputs in variables and print a sentence like\n",
    "\"Hello, [Name]! You are [Age] years old.\" Ensure you cast the age to an\n",
    "integer."
   ]
  },
  {
   "cell_type": "code",
   "execution_count": 5,
   "id": "138a49a2",
   "metadata": {},
   "outputs": [
    {
     "ename": "ValueError",
     "evalue": "invalid literal for int() with base 10: ''",
     "output_type": "error",
     "traceback": [
      "\u001b[1;31m---------------------------------------------------------------------------\u001b[0m",
      "\u001b[1;31mValueError\u001b[0m                                Traceback (most recent call last)",
      "Cell \u001b[1;32mIn[5], line 2\u001b[0m\n\u001b[0;32m      1\u001b[0m Name\u001b[38;5;241m=\u001b[39m\u001b[38;5;28minput\u001b[39m(\u001b[38;5;124m\"\u001b[39m\u001b[38;5;124menter your name \u001b[39m\u001b[38;5;124m\"\u001b[39m)\n\u001b[1;32m----> 2\u001b[0m Age\u001b[38;5;241m=\u001b[39m\u001b[38;5;28mint\u001b[39m(\u001b[38;5;28minput\u001b[39m(\u001b[38;5;124m\"\u001b[39m\u001b[38;5;124menter the age \u001b[39m\u001b[38;5;124m\"\u001b[39m))\n\u001b[0;32m      4\u001b[0m \u001b[38;5;28mprint\u001b[39m(\u001b[38;5;124mf\u001b[39m\u001b[38;5;124m\"\u001b[39m\u001b[38;5;132;01m{\u001b[39;00mName\u001b[38;5;132;01m}\u001b[39;00m\u001b[38;5;124m! You are \u001b[39m\u001b[38;5;132;01m{\u001b[39;00mAge\u001b[38;5;132;01m}\u001b[39;00m\u001b[38;5;124m years old.\u001b[39m\u001b[38;5;124m\"\u001b[39m)\n",
      "\u001b[1;31mValueError\u001b[0m: invalid literal for int() with base 10: ''"
     ]
    }
   ],
   "source": [
    "Name=input(\"enter your name \")\n",
    "Age=int(input(\"enter the age \"))\n",
    "\n",
    "print(f\"{Name}! You are {Age} years old.\")"
   ]
  },
  {
   "cell_type": "markdown",
   "id": "e51cfc68",
   "metadata": {},
   "source": [
    "6. Question 6:\n",
    "Create two variables x and y and assign them the values 10 and 3.5 ,\n",
    "respectively. Print their values and types. Then, create a new variable\n",
    "sum_xy and store the sum of x and y . Print the result and its type."
   ]
  },
  {
   "cell_type": "code",
   "execution_count": null,
   "id": "169d5317",
   "metadata": {},
   "outputs": [
    {
     "name": "stdout",
     "output_type": "stream",
     "text": [
      " value of x is 10 <class 'int'>\n",
      " \n",
      "value of y is 3.5 <class 'float'>\n",
      "\n",
      "sum of 10 and 3.5 is 13.5 \n",
      "data type is : <class 'float'>\n"
     ]
    }
   ],
   "source": [
    "x=10\n",
    "y=3.5\n",
    "print(f\" value of x is {x}\",type(x))\n",
    "print(f\" \\nvalue of y is {y}\",type(y))\n",
    "\n",
    "sum_xy=(x+y)\n",
    "\n",
    "print(f\"\\nsum of {x} and {y} is {sum_xy} \\ndata type is :\",type(sum_xy))"
   ]
  },
  {
   "cell_type": "markdown",
   "id": "d8d11916",
   "metadata": {},
   "source": [
    "7. Question 7:\n",
    "Using the type() function, check and print the data type of the following:\n",
    "45.0\n",
    "\"hello\"\n",
    "None\n",
    "False"
   ]
  },
  {
   "cell_type": "code",
   "execution_count": 7,
   "id": "9bb5db63",
   "metadata": {},
   "outputs": [
    {
     "name": "stdout",
     "output_type": "stream",
     "text": [
      "value 45 data type is : <class 'int'>\n",
      "value 'hello' data type is : <class 'str'>\n"
     ]
    }
   ],
   "source": [
    "print(\"value 45 data type is :\",type(45))\n",
    "print(\"value 'hello' data type is :\",type(\"hello\"))"
   ]
  },
  {
   "cell_type": "markdown",
   "id": "b7f10b73",
   "metadata": {},
   "source": [
    "8. Question 8:\n",
    "Write a Python program to print three strings \"apple\" , \"banana\" , and \"cherry\"\n",
    "on the same line, separated by a space. Then modify the program to\n",
    "separate the strings using a comma , instead of a space."
   ]
  },
  {
   "cell_type": "code",
   "execution_count": 8,
   "id": "69904337",
   "metadata": {},
   "outputs": [
    {
     "name": "stdout",
     "output_type": "stream",
     "text": [
      "apple banana cherry\n"
     ]
    }
   ],
   "source": [
    "print(\"apple\", \"banana\", \"cherry\")"
   ]
  },
  {
   "cell_type": "markdown",
   "id": "7fe1ee4c",
   "metadata": {},
   "source": [
    "9. Question 9:\n",
    "Create a variable big_number and assign it a very large integer value (e.g.,\n",
    "987654321987654321 ). Print the value and its type. What do you notice about\n",
    "the size of the number?"
   ]
  },
  {
   "cell_type": "code",
   "execution_count": null,
   "id": "995ef220",
   "metadata": {},
   "outputs": [
    {
     "name": "stdout",
     "output_type": "stream",
     "text": [
      "vale of big number is :987654321987152272727272872809999999999999992992929999292929292929292992929292929999999999999999999999999229282982678256725254552526262622627272654321 <class 'int'>\n"
     ]
    }
   ],
   "source": [
    "big_number = 987654321987152272\n",
    "print(f\"vale of big number is :{big_number}\",type(big_number))"
   ]
  },
  {
   "cell_type": "markdown",
   "id": "03b493a3",
   "metadata": {},
   "source": [
    "10. Question 10:\n",
    "Write a Python program that prints the result of multiplying two floats (e.g.,\n",
    "2.5 and 3.7 ). Then check and print the data type of the result."
   ]
  },
  {
   "cell_type": "code",
   "execution_count": 16,
   "id": "03fc77b2",
   "metadata": {},
   "outputs": [
    {
     "name": "stdout",
     "output_type": "stream",
     "text": [
      "multipliaction of two float is :9.25 <class 'float'>\n"
     ]
    }
   ],
   "source": [
    "a=(2.5 * 3.7)\n",
    "print(f\"multipliaction of two float is :{a}\",type(a))"
   ]
  }
 ],
 "metadata": {
  "kernelspec": {
   "display_name": "base",
   "language": "python",
   "name": "python3"
  },
  "language_info": {
   "codemirror_mode": {
    "name": "ipython",
    "version": 3
   },
   "file_extension": ".py",
   "mimetype": "text/x-python",
   "name": "python",
   "nbconvert_exporter": "python",
   "pygments_lexer": "ipython3",
   "version": "3.12.7"
  }
 },
 "nbformat": 4,
 "nbformat_minor": 5
}
