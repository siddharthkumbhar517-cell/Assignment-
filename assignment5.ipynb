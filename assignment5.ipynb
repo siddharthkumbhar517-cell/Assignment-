{
 "cells": [
  {
   "cell_type": "markdown",
   "id": "4461da94",
   "metadata": {},
   "source": [
    "EXPLANATION"
   ]
  },
  {
   "cell_type": "markdown",
   "id": "2e4ea95b",
   "metadata": {},
   "source": [
    "Q1. Explain the difference between def statements and lambda expressions. Give an\n",
    "example of each.\n",
    "\n",
    "def statement are having a organised syntax thats why the code of def statement having more than 3 to 5 lines but a lambda function execute the def statement in 1 or 2 lines only"
   ]
  },
  {
   "cell_type": "markdown",
   "id": "47facb73",
   "metadata": {},
   "source": [
    "Q2. List and explain three benefits of using lambda expressions.\n"
   ]
  },
  {
   "cell_type": "markdown",
   "id": "674a7265",
   "metadata": {},
   "source": [
    "1.minimize the size of code, 2. optimal , 3. use in that case where you have a sma;; function for short time"
   ]
  },
  {
   "cell_type": "markdown",
   "id": "20a134b7",
   "metadata": {},
   "source": [
    "Q3. Compare map(), filter(), and reduce() with one-line examples using a lambda\n",
    "function and a list."
   ]
  },
  {
   "cell_type": "markdown",
   "id": "51e91cd8",
   "metadata": {},
   "source": [
    "1.map: Applies a function to each element of an iterable, producing a new iterable of transformed items\n",
    "2 filter: Filters elements in an iterable based on a predicate function, retaining only those for which the function returns\n",
    "3.reduces: Applies a binary function cumulatively to the items of an iterable to reduce it to a single value."
   ]
  },
  {
   "cell_type": "markdown",
   "id": "baaeff96",
   "metadata": {},
   "source": [
    "Q4. What are function annotations in Python? Write a function that uses them.\n",
    "\n",
    "ans = Function annotations in Python are a way to attach metadata to the arguments (parameters) and return value of a function. They are optional, have no effect on the actual execution (i.e. they don’t enforce types at runtime by themselves), but are very useful for readability, documentation, type checking tools (like mypy), IDE hints, or other third-party libraries"
   ]
  },
  {
   "cell_type": "markdown",
   "id": "c9d9322a",
   "metadata": {},
   "source": [
    "Q5. What is a recursive function? Write a simple recursive function to calculate the\n",
    "factorial of a number."
   ]
  },
  {
   "cell_type": "code",
   "execution_count": null,
   "id": "82ee2eb1",
   "metadata": {},
   "outputs": [],
   "source": [
    "def factorial(n):\n",
    "    if n == 0:\n",
    "        return 1\n",
    "    else:\n",
    "        return n * factorial(n - 1)\n",
    "\n",
    "print(factorial(5))  \n"
   ]
  },
  {
   "cell_type": "markdown",
   "id": "726af3a7",
   "metadata": {},
   "source": [
    "Q6. State five design guidelines you should follow while writing functions in Python.\n",
    "ans = \n",
    "1.Do one thing only\n",
    "A function should have a single responsibility. If it’s doing too many things, split it into smaller helper functions.\n",
    "\n",
    "2.Use clear, descriptive names\n",
    "Function and parameter names should immediately tell what they do. Avoid vague names like do_work() or data1.\n",
    "\n",
    "3.Limit number of parameters\n",
    "Try to keep the number of arguments small (ideally 3-4). Too many parameters make it hard to use correctly and test.\n",
    "\n",
    "4.Document using docstrings\n",
    "Always include a docstring that states what the function does, its inputs, and outputs. It helps others (and yourself) understand and maintain the code.\n",
    "\n",
    "5.Handle edge cases & validate inputs\n",
    "Check for unusual or invalid inputs and deal with them gracefully. Don’t assume everything passed in is correct."
   ]
  },
  {
   "cell_type": "markdown",
   "id": "4ac34b0e",
   "metadata": {},
   "source": [
    "Q7. Name at least three ways a function can communicate results to a caller and briefly\n",
    "explain each.\n",
    "\n",
    "ans =\n",
    "\n",
    "1.Return value\n",
    "The function uses a return statement to send back a value (or object) to the caller. The caller can capture that into a variable and use it later.\n",
    "\n",
    "2.Modifying mutable arguments\n",
    "If you pass a mutable object (like a list or dictionary) into the function, the function can change it (add, remove, update contents). Those changes are visible to the caller because they refer to the same object.\n",
    "\n",
    "3.Side effects\n",
    "The function can do something besides computing values, like printing to screen, writing to a file, or modifying global state. These side actions affect external systems or state and communicate results in an indirect way to the caller (or the environment)."
   ]
  }
 ],
 "metadata": {
  "kernelspec": {
   "display_name": "base",
   "language": "python",
   "name": "python3"
  },
  "language_info": {
   "codemirror_mode": {
    "name": "ipython",
    "version": 3
   },
   "file_extension": ".py",
   "mimetype": "text/x-python",
   "name": "python",
   "nbconvert_exporter": "python",
   "pygments_lexer": "ipython3",
   "version": "3.12.7"
  }
 },
 "nbformat": 4,
 "nbformat_minor": 5
}
