{
 "cells": [
  {
   "cell_type": "markdown",
   "id": "9a4baeda",
   "metadata": {},
   "source": [
    "1. Default Arguments\n",
    "Q1. What will be the output of the following function call, and why?\n",
    "def func(a, b=6, c=8):\n",
    "print(a, b, c)\n",
    "func(1, 2)\n",
    "\n",
    "ans = \n",
    "\n",
    "the out is : 1 2 8 , because a dosent have any value but b have a default value , default value means if the client dont enter the value then by default this value was taken thats why in function call you will give a values thats why b taken 2  "
   ]
  },
  {
   "cell_type": "markdown",
   "id": "35d4761a",
   "metadata": {},
   "source": []
  },
  {
   "cell_type": "markdown",
   "id": "c08d44d1",
   "metadata": {},
   "source": [
    "2. Keyword Arguments with Defaults\n",
    "Q2. Predict the output and explain:\n",
    "def func(a, b, c=5):\n",
    "print(a, b, c)\n",
    "func(1, c=3, b=2)\n",
    "\n",
    "ans = \n",
    "the out put is 1 2 3 \n",
    "because in call values 1 is not denoted to any variable that and the position wise the the 1 value is given by a and c value are having default value but in call function they have give a value then c takes a call value and b are take a call value  "
   ]
  },
  {
   "cell_type": "markdown",
   "id": "1be035b2",
   "metadata": {},
   "source": [
    "3. Positional Variable-Length Arguments\n",
    "Q3. Explain the behavior and output:\n",
    "def func(a, *pargs):\n",
    "print(a, pargs)\n",
    "func(1, 2, 3)\n",
    "\n",
    "ans =\n",
    "\n",
    " a is the first positional parameter, so it receives the value 1.\n",
    "*pargs collects all extra positional arguments beyond the first into a tuple. Here the extra arguments\n",
    "\n"
   ]
  },
  {
   "cell_type": "markdown",
   "id": "9484c68c",
   "metadata": {},
   "source": [
    "4. Keyword Variable-Length Arguments\n",
    "Q4. What will this code print, and why?\n",
    "def func(a, **kargs):\n",
    "print(a, kargs)\n",
    "func(a=1, c=3, b=2)\n",
    "\n",
    "ans =\n",
    "a=1 is passed as keyword argument → so a becomes 1.\n",
    "**kargs collects all other keyword arguments into a dictionary. Here the others are c=3 and b=2.\n",
    "Thus inside the function kargs is {'c': 3, 'b': 2}, and printing shows 1 {'c': 3, 'b': 2}."
   ]
  },
  {
   "cell_type": "markdown",
   "id": "f1ac53a3",
   "metadata": {},
   "source": [
    "5. Mixing Positional and Unpacked Tuple Arguments\n",
    "Q5. Explain the result of this call:\n",
    "def func(a, b, c=8, d=5):\n",
    "print(a, b, c, d)\n",
    "func(1, *(5, 6))\n",
    "\n",
    "ans =\n",
    " \n",
    "a takes the first positional argument, so a = 1.\n",
    "*(5, 6) unpacks the tuple (5, 6) into positional arguments, so b = 5 and c = 6.\n",
    "d is not provided in the call, so it uses its default value 5."
   ]
  },
  {
   "cell_type": "markdown",
   "id": "60fc193e",
   "metadata": {},
   "source": [
    "6. Mutable vs Immutable Behavior\n",
    "Q6. Predict the output of the variables l, m, and n after this code runs:\n",
    "def func(a, b, c):\n",
    "a = 2\n",
    "b[0] = 'x'\n",
    "c['a'] = 'y'\n",
    "l = 1\n",
    "m = [1]\n",
    "n = {'a': 0}\n",
    "func(l, m, n)\n",
    "print(l, m, n)\n",
    "\n",
    "ans =\n",
    "\n",
    "l is an integer (immutable). Inside the function a = 2 changes only the local name a, not l. So l remains 1.\n",
    "m is a list (mutable). The function does b[0] = 'x', modifying the list object itself. After the call, m becomes ['x'].\n",
    "n is a dict (mutable). The function does c['a'] = 'y', changing the dictionary’s content. After the call, n becomes {'a': 'y'}."
   ]
  },
  {
   "cell_type": "markdown",
   "id": "05b27fe8",
   "metadata": {},
   "source": [
    "Bonus Challenge\n",
    "Write a function that accepts:\n",
    "• one required argument,\n",
    "• a variable number of positional arguments,\n",
    "• a variable number of keyword arguments,\n",
    "Then print all three components. Call it with:\n",
    "my_func(10, 20, 30, x=5, y=15)\n"
   ]
  },
  {
   "cell_type": "code",
   "execution_count": 2,
   "id": "dd72335a",
   "metadata": {},
   "outputs": [
    {
     "name": "stdout",
     "output_type": "stream",
     "text": [
      "Required argument: 10\n",
      "Positional args: (20, 30)\n",
      "Keyword args: {'x': 5, 'y': 15}\n"
     ]
    }
   ],
   "source": [
    "def my_func(required, *pos_args, **kw_args):\n",
    "    print(\"Required argument:\", required)\n",
    "    print(\"Positional args:\", pos_args)\n",
    "    print(\"Keyword args:\", kw_args)\n",
    "\n",
    "my_func(10, 20, 30, x=5, y=15)\n"
   ]
  }
 ],
 "metadata": {
  "kernelspec": {
   "display_name": "base",
   "language": "python",
   "name": "python3"
  },
  "language_info": {
   "codemirror_mode": {
    "name": "ipython",
    "version": 3
   },
   "file_extension": ".py",
   "mimetype": "text/x-python",
   "name": "python",
   "nbconvert_exporter": "python",
   "pygments_lexer": "ipython3",
   "version": "3.12.7"
  }
 },
 "nbformat": 4,
 "nbformat_minor": 5
}
