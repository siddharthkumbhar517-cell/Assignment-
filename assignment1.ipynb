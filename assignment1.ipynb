{
 "cells": [
  {
   "cell_type": "markdown",
   "id": "b9e7ca30",
   "metadata": {},
   "source": [
    "*** ASSIGNMENT 1 ***"
   ]
  },
  {
   "cell_type": "markdown",
   "id": "0bb128cb",
   "metadata": {},
   "source": [
    "Question 1\n",
    "Write a Python program to print your name and favourite colour on two\n",
    "separate lines."
   ]
  },
  {
   "cell_type": "code",
   "execution_count": 29,
   "id": "77f916e4",
   "metadata": {},
   "outputs": [
    {
     "name": "stdout",
     "output_type": "stream",
     "text": [
      "MY NAME IS HARSHAD SHITOLE \n",
      "FAVOURITE COLOUR IS : SAFFRON\n"
     ]
    }
   ],
   "source": [
    "print(\"MY NAME IS HARSHAD SHITOLE \\nFAVOURITE COLOUR IS : SAFFRON\")"
   ]
  },
  {
   "cell_type": "markdown",
   "id": "753664ef",
   "metadata": {},
   "source": [
    " Question 2\n",
    " Write a Python program that prints the result of adding 7 and 8."
   ]
  },
  {
   "cell_type": "code",
   "execution_count": 30,
   "id": "292427c7",
   "metadata": {},
   "outputs": [
    {
     "name": "stdout",
     "output_type": "stream",
     "text": [
      "addition of two number is :15\n"
     ]
    }
   ],
   "source": [
    "addition = 7+8\n",
    "print(f\"addition of two number is :{addition}\")"
   ]
  },
  {
   "cell_type": "markdown",
   "id": "06f1b341",
   "metadata": {},
   "source": [
    " Question 3\n",
    " Use the \n",
    " print function to display the following text exactly as it is:\n",
    " Python is fun!\n",
    " Let's learn together."
   ]
  },
  {
   "cell_type": "code",
   "execution_count": 31,
   "id": "0f8d6bec",
   "metadata": {},
   "outputs": [
    {
     "name": "stdout",
     "output_type": "stream",
     "text": [
      "Python is fun!\n",
      "Let's learn together.\n"
     ]
    }
   ],
   "source": [
    "print(\"Python is fun!\\nLet's learn together.\")"
   ]
  },
  {
   "cell_type": "markdown",
   "id": "e51497a4",
   "metadata": {},
   "source": [
    " Question 4\n",
    " Write a Python program to calculate and print the result of multiplying 6 by \n",
    "9."
   ]
  },
  {
   "cell_type": "code",
   "execution_count": 32,
   "id": "ff361d47",
   "metadata": {},
   "outputs": [
    {
     "name": "stdout",
     "output_type": "stream",
     "text": [
      "multiplication of 6 by 9 : 54\n"
     ]
    }
   ],
   "source": [
    "print(f\"multiplication of {6} by {9} :\",6*9)"
   ]
  },
  {
   "cell_type": "markdown",
   "id": "98632406",
   "metadata": {},
   "source": [
    " Question 5\n",
    " Write a Python program that prints the result of adding 5  5 and \n",
    "multiplying 2  3 in a single line of code."
   ]
  },
  {
   "cell_type": "code",
   "execution_count": 33,
   "id": "22189824",
   "metadata": {},
   "outputs": [
    {
     "name": "stdout",
     "output_type": "stream",
     "text": [
      "Addition of 5 + 5 is :25 and Multiplication of 2 by 3 :6\n"
     ]
    }
   ],
   "source": [
    "print(f\"Addition of 5 + 5 is :{5*5} and Multiplication of 2 by 3 :{2*3}\")"
   ]
  },
  {
   "cell_type": "markdown",
   "id": "ed53781f",
   "metadata": {},
   "source": [
    "  Take the name A as input from the user and print \"Hello A\", where A is \n",
    "the name in input."
   ]
  },
  {
   "cell_type": "code",
   "execution_count": 34,
   "id": "aff9647f",
   "metadata": {},
   "outputs": [
    {
     "name": "stdout",
     "output_type": "stream",
     "text": [
      "\n"
     ]
    }
   ],
   "source": [
    "a=input(\"enter any text...\")\n",
    "print(a)"
   ]
  },
  {
   "cell_type": "markdown",
   "id": "94ba6485",
   "metadata": {},
   "source": [
    " You have x rupees in your savings. You google pay y rupees, print your \n",
    "bank balance"
   ]
  },
  {
   "cell_type": "code",
   "execution_count": 35,
   "id": "15d373a5",
   "metadata": {},
   "outputs": [
    {
     "name": "stdout",
     "output_type": "stream",
     "text": [
      "amount withdraw successfullu.., of rs600\n",
      "your balance is 9400\n"
     ]
    }
   ],
   "source": [
    "\n",
    "\n",
    "def balance(y):\n",
    "    saving = 10000\n",
    "    #y=int(input(\"enter the withdrawal amount\"))\n",
    "    if y<saving:\n",
    "        balance=(saving-y)\n",
    "        print(f\"amount withdraw successfullu.., of rs{y}\")\n",
    "        print(f\"your balance is {balance}\")\n",
    "    else:\n",
    "        print(\"check your balance..plz!!\")\n",
    "\n",
    "\n",
    "balance(600)"
   ]
  },
  {
   "cell_type": "markdown",
   "id": "e9b9cb54",
   "metadata": {},
   "source": [
    "  Print the first five letters of the English alphabet i.e. A, B, C, D and E. \n",
    "one below each other"
   ]
  },
  {
   "cell_type": "code",
   "execution_count": 36,
   "id": "471bf779",
   "metadata": {},
   "outputs": [
    {
     "name": "stdout",
     "output_type": "stream",
     "text": [
      "a\n",
      "b\n",
      "c\n",
      "s\n",
      "d\n",
      "e\n"
     ]
    }
   ],
   "source": [
    "l=\"abcsde\"\n",
    "\n",
    "for l in l:\n",
    "    print(l)\n"
   ]
  },
  {
   "cell_type": "markdown",
   "id": "1b2706d6",
   "metadata": {},
   "source": [
    "4. Take two names A and B as input from the user, and print \"A says Hi to\n",
    "B\" (Without quotations), where A and B are the names in input."
   ]
  },
  {
   "cell_type": "code",
   "execution_count": 37,
   "id": "90887b43",
   "metadata": {},
   "outputs": [
    {
     "name": "stdout",
     "output_type": "stream",
     "text": [
      "harshad says Hi to samarth\n"
     ]
    }
   ],
   "source": [
    "A = input(\"Enter name A: \")\n",
    "B = input(\"Enter name B: \")\n",
    "print(f\"{A} says Hi to {B}\")"
   ]
  }
 ],
 "metadata": {
  "kernelspec": {
   "display_name": "base",
   "language": "python",
   "name": "python3"
  },
  "language_info": {
   "codemirror_mode": {
    "name": "ipython",
    "version": 3
   },
   "file_extension": ".py",
   "mimetype": "text/x-python",
   "name": "python",
   "nbconvert_exporter": "python",
   "pygments_lexer": "ipython3",
   "version": "3.12.7"
  }
 },
 "nbformat": 4,
 "nbformat_minor": 5
}
