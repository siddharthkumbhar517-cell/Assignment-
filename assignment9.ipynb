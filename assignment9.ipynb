{
 "cells": [
  {
   "cell_type": "code",
   "execution_count": 1,
   "id": "94387884",
   "metadata": {},
   "outputs": [
    {
     "name": "stdout",
     "output_type": "stream",
     "text": [
      "Years List: [1990, 1991, 1992, 1993, 1994, 1995]\n"
     ]
    }
   ],
   "source": [
    "# 1. Year List Creation\n",
    "# Create a list of years starting from your birth year (e.g., 1990) and the next five years\n",
    "years_list = [1990 + i for i in range(6)]\n",
    "print(\"Years List:\", years_list)"
   ]
  },
  {
   "cell_type": "code",
   "execution_count": 2,
   "id": "6c8aead5",
   "metadata": {},
   "outputs": [
    {
     "name": "stdout",
     "output_type": "stream",
     "text": [
      "Third Birthday Year: 1993\n"
     ]
    }
   ],
   "source": [
    "# 2. Third Birthday Year\n",
    "# Print the year when you were 3 years old\n",
    "print(\"Third Birthday Year:\", years_list[3])"
   ]
  },
  {
   "cell_type": "code",
   "execution_count": 3,
   "id": "c560f415",
   "metadata": {},
   "outputs": [
    {
     "name": "stdout",
     "output_type": "stream",
     "text": [
      "Oldest Year: 1995\n"
     ]
    }
   ],
   "source": [
    "# 3. Oldest Year\n",
    "# The last year in the list represents the most recent (oldest) age\n",
    "print(\"Oldest Year:\", years_list[-1])"
   ]
  },
  {
   "cell_type": "code",
   "execution_count": 4,
   "id": "9d43d9a8",
   "metadata": {},
   "outputs": [
    {
     "name": "stdout",
     "output_type": "stream",
     "text": [
      "Things List: ['mozzarella', 'cinderella', 'salmonella']\n"
     ]
    }
   ],
   "source": [
    "# 4. List of Things\n",
    "# Create a list with items\n",
    "things = [\"mozzarella\", \"cinderella\", \"salmonella\"]\n",
    "print(\"Things List:\", things)"
   ]
  },
  {
   "cell_type": "code",
   "execution_count": 5,
   "id": "d7eedddf",
   "metadata": {},
   "outputs": [
    {
     "name": "stdout",
     "output_type": "stream",
     "text": [
      "Updated Things List: ['mozzarella', 'Cinderella', 'salmonella']\n"
     ]
    }
   ],
   "source": [
    "# 5. Capitalization Check\n",
    "# Capitalize the item that refers to a person in the list\n",
    "things[1] = things[1].capitalize()\n",
    "print(\"Updated Things List:\", things)"
   ]
  },
  {
   "cell_type": "code",
   "execution_count": 6,
   "id": "f57a4199",
   "metadata": {},
   "outputs": [
    {
     "name": "stdout",
     "output_type": "stream",
     "text": [
      "Surprise List: ['Groucho', 'Chico', 'Harpo']\n"
     ]
    }
   ],
   "source": [
    "# 6. Surprise List\n",
    "# Create a list with names\n",
    "surprise_list = [\"Groucho\", \"Chico\", \"Harpo\"]\n",
    "print(\"Surprise List:\", surprise_list)"
   ]
  },
  {
   "cell_type": "code",
   "execution_count": 7,
   "id": "c5747161",
   "metadata": {},
   "outputs": [
    {
     "name": "stdout",
     "output_type": "stream",
     "text": [
      "Transformed String: Oprah\n"
     ]
    }
   ],
   "source": [
    "# 7. String Transformation\n",
    "# Take the last item, lowercase it, reverse it, and capitalize the result\n",
    "transformed = surprise_list[-1].lower()[::-1].capitalize()\n",
    "print(\"Transformed String:\", transformed)"
   ]
  },
  {
   "cell_type": "code",
   "execution_count": 8,
   "id": "9873cb9b",
   "metadata": {},
   "outputs": [
    {
     "name": "stdout",
     "output_type": "stream",
     "text": [
      "English to French Dictionary: {'dog': 'chien', 'cat': 'chat', 'walrus': 'morse'}\n"
     ]
    }
   ],
   "source": [
    "# 8. English-to-French Dictionary\n",
    "# Create a dictionary mapping English words to French\n",
    "e2f = {\"dog\": \"chien\", \"cat\": \"chat\", \"walrus\": \"morse\"}\n",
    "print(\"English to French Dictionary:\", e2f)"
   ]
  },
  {
   "cell_type": "code",
   "execution_count": 9,
   "id": "d0ffce06",
   "metadata": {},
   "outputs": [
    {
     "name": "stdout",
     "output_type": "stream",
     "text": [
      "French for 'walrus': morse\n"
     ]
    }
   ],
   "source": [
    "# 9. Translate 'walrus' to French\n",
    "# Use the dictionary to find the French word for 'walrus'\n",
    "print(\"French for 'walrus':\", e2f[\"walrus\"])"
   ]
  },
  {
   "cell_type": "code",
   "execution_count": 10,
   "id": "cc198873",
   "metadata": {},
   "outputs": [
    {
     "name": "stdout",
     "output_type": "stream",
     "text": [
      "French to English Dictionary: {'chien': 'dog', 'chat': 'cat', 'morse': 'walrus'}\n"
     ]
    }
   ],
   "source": [
    "# 10. Reverse Dictionary\n",
    "# Create a reverse dictionary by swapping keys and values\n",
    "f2e = {v: k for k, v in e2f.items()}\n",
    "print(\"French to English Dictionary:\", f2e)"
   ]
  },
  {
   "cell_type": "code",
   "execution_count": 11,
   "id": "9043be80",
   "metadata": {},
   "outputs": [
    {
     "name": "stdout",
     "output_type": "stream",
     "text": [
      "English for 'chien': dog\n"
     ]
    }
   ],
   "source": [
    "# 11. Translate 'chien' to English\n",
    "# Use the reverse dictionary to find the English word for 'chien'\n",
    "print(\"English for 'chien':\", f2e[\"chien\"])"
   ]
  },
  {
   "cell_type": "code",
   "execution_count": 12,
   "id": "30c6c995",
   "metadata": {},
   "outputs": [
    {
     "name": "stdout",
     "output_type": "stream",
     "text": [
      "All English Words: {'walrus', 'dog', 'cat'}\n"
     ]
    }
   ],
   "source": [
    "\n",
    "# 12. Get All English Words\n",
    "# Print all English words (keys) from the original dictionary\n",
    "print(\"All English Words:\", set(e2f.keys()))"
   ]
  },
  {
   "cell_type": "code",
   "execution_count": 13,
   "id": "7a2db4ff",
   "metadata": {},
   "outputs": [
    {
     "name": "stdout",
     "output_type": "stream",
     "text": [
      "Life Dictionary: {'animals': {'cats': ['Henri', 'Grumpy', 'Lucy'], 'octopi': {}, 'emus': {}}, 'plants': {}, 'other': {}}\n"
     ]
    }
   ],
   "source": [
    "\n",
    "# 13. Create a Nested Dictionary (life)\n",
    "# Create a nested dictionary representing different life categories\n",
    "life = {\n",
    "    \"animals\": {\n",
    "        \"cats\": [\"Henri\", \"Grumpy\", \"Lucy\"],\n",
    "        \"octopi\": {},\n",
    "        \"emus\": {}\n",
    "    },\n",
    "    \"plants\": {},\n",
    "    \"other\": {}\n",
    "}\n",
    "print(\"Life Dictionary:\", life)"
   ]
  },
  {
   "cell_type": "code",
   "execution_count": 14,
   "id": "50b617f7",
   "metadata": {},
   "outputs": [
    {
     "name": "stdout",
     "output_type": "stream",
     "text": [
      "Top-Level Keys: ['animals', 'plants', 'other']\n"
     ]
    }
   ],
   "source": [
    "# 14. Top-Level Keys\n",
    "# Print the top-level keys of the 'life' dictionary\n",
    "print(\"Top-Level Keys:\", list(life.keys()))"
   ]
  },
  {
   "cell_type": "code",
   "execution_count": 15,
   "id": "350fd96a",
   "metadata": {},
   "outputs": [
    {
     "name": "stdout",
     "output_type": "stream",
     "text": [
      "Animal Categories: ['cats', 'octopi', 'emus']\n"
     ]
    }
   ],
   "source": [
    "# 15. Animal Categories\n",
    "# Print the keys inside the 'animals' category\n",
    "print(\"Animal Categories:\", list(life[\"animals\"].keys()))"
   ]
  },
  {
   "cell_type": "code",
   "execution_count": 17,
   "id": "e05d4535",
   "metadata": {},
   "outputs": [
    {
     "name": "stdout",
     "output_type": "stream",
     "text": [
      "Cat Names: ['Henri', 'Grumpy', 'Lucy']\n"
     ]
    }
   ],
   "source": [
    "# 16. List of Cat Names\n",
    "# Print the list of cat names\n",
    "\n",
    "print(\"Cat Names:\", life[\"animals\"][\"cats\"])"
   ]
  }
 ],
 "metadata": {
  "kernelspec": {
   "display_name": "base",
   "language": "python",
   "name": "python3"
  },
  "language_info": {
   "codemirror_mode": {
    "name": "ipython",
    "version": 3
   },
   "file_extension": ".py",
   "mimetype": "text/x-python",
   "name": "python",
   "nbconvert_exporter": "python",
   "pygments_lexer": "ipython3",
   "version": "3.12.7"
  }
 },
 "nbformat": 4,
 "nbformat_minor": 5
}
