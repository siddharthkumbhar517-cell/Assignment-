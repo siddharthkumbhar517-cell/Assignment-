{
 "cells": [
  {
   "cell_type": "markdown",
   "id": "bc0470b1",
   "metadata": {},
   "source": [
    "1. Conditional Logic\n",
    "Write a function that checks a number against 7 and prints:\n",
    "• 'too low' if less than 7,\n",
    "• 'just right' if equal to 7,\n",
    "• 'too high' if greater than 7.\n",
    "Call the function with the values 7, 5, and 15."
   ]
  },
  {
   "cell_type": "code",
   "execution_count": 6,
   "id": "81099b69",
   "metadata": {},
   "outputs": [
    {
     "name": "stdout",
     "output_type": "stream",
     "text": [
      "just right\n",
      "too low\n",
      "too high\n"
     ]
    }
   ],
   "source": [
    "def check_number(n):\n",
    "    if n < 7:\n",
    "        print(\"too low\")\n",
    "    elif n == 7:\n",
    "        print(\"just right\")\n",
    "    else:\n",
    "        print(\"too high\")\n",
    "\n",
    "\n",
    "check_number(7)\n",
    "check_number(5)\n",
    "check_number(15)\n"
   ]
  },
  {
   "cell_type": "markdown",
   "id": "884c6c0b",
   "metadata": {},
   "source": [
    "2. While Loop Comparison\n",
    "Assign:\n",
    "guess_me = 7\n",
    "start = 1\n",
    "Write a while True: loop that compares start with guess_me:\n",
    "• Print 'too low' if start < guess_me\n",
    "• Print 'found it' and break if equal\n",
    "• Print 'too high' and break if greater\n",
    "Increment start at the end of each loop cycle."
   ]
  },
  {
   "cell_type": "code",
   "execution_count": 7,
   "id": "eaef674b",
   "metadata": {},
   "outputs": [
    {
     "name": "stdout",
     "output_type": "stream",
     "text": [
      "too low\n",
      "too low\n",
      "too low\n",
      "too low\n",
      "too low\n",
      "too low\n",
      "found it\n"
     ]
    }
   ],
   "source": [
    "guess_me = 7\n",
    "start = 1\n",
    "\n",
    "while True:\n",
    "    if start < guess_me:\n",
    "        print(\"too low\")\n",
    "    elif start == guess_me:\n",
    "        print(\"found it\")\n",
    "        break\n",
    "    else:\n",
    "        print(\"too high\")\n",
    "        break\n",
    "\n",
    "    start = start + 1\n"
   ]
  },
  {
   "cell_type": "markdown",
   "id": "aca170fe",
   "metadata": {},
   "source": [
    "3. Loop Through a List\n",
    "Use a for loop to print each element in this list:\n",
    "[3, 2, 1, 0]"
   ]
  },
  {
   "cell_type": "code",
   "execution_count": 8,
   "id": "bbc69850",
   "metadata": {},
   "outputs": [
    {
     "name": "stdout",
     "output_type": "stream",
     "text": [
      "3\n",
      "2\n",
      "1\n",
      "0\n"
     ]
    }
   ],
   "source": [
    "numbers = [3, 2, 1, 0]\n",
    "\n",
    "for num in numbers:\n",
    "    print(num)\n"
   ]
  },
  {
   "cell_type": "markdown",
   "id": "5c80bb9e",
   "metadata": {},
   "source": [
    "4. List Comprehension\n",
    "Use a list comprehension to generate a list of even numbers from 0 to 10."
   ]
  },
  {
   "cell_type": "code",
   "execution_count": 9,
   "id": "226a5f88",
   "metadata": {},
   "outputs": [
    {
     "name": "stdout",
     "output_type": "stream",
     "text": [
      "[0, 2, 4, 6, 8, 10]\n"
     ]
    }
   ],
   "source": [
    "evens = [x for x in range(0, 11) if x % 2 == 0]\n",
    "print(evens)\n"
   ]
  },
  {
   "cell_type": "markdown",
   "id": "6c623555",
   "metadata": {},
   "source": [
    "5. Dictionary Comprehension\n",
    "Use a dictionary comprehension (or another method) to create a dictionary called squares\n",
    "where:"
   ]
  },
  {
   "cell_type": "code",
   "execution_count": 10,
   "id": "c5d28319",
   "metadata": {},
   "outputs": [
    {
     "name": "stdout",
     "output_type": "stream",
     "text": [
      "{1: 1, 2: 4, 3: 9, 4: 16, 5: 25, 6: 36, 7: 49, 8: 64, 9: 81}\n"
     ]
    }
   ],
   "source": [
    "squares = {x: x**2 for x in range(1, 10)}\n",
    "print(squares)\n"
   ]
  },
  {
   "cell_type": "markdown",
   "id": "412073f3",
   "metadata": {},
   "source": [
    "6. Set Comprehension\n",
    "Create a set odd that contains all the odd numbers from 0 to 9 using a set comprehension."
   ]
  },
  {
   "cell_type": "code",
   "execution_count": 11,
   "id": "467207aa",
   "metadata": {},
   "outputs": [
    {
     "name": "stdout",
     "output_type": "stream",
     "text": [
      "{1, 3, 5, 7, 9}\n"
     ]
    }
   ],
   "source": [
    "odd = {x for x in range(0, 10) if x % 2 != 0}\n",
    "print(odd)\n"
   ]
  },
  {
   "cell_type": "markdown",
   "id": "64c1e42f",
   "metadata": {},
   "source": [
    "7. Generator Expression\n",
    "Use a generator expression to create strings like 'Got_0', 'Got_1', ..., 'Got_9'.\n",
    "Iterate over the generator using a for loop and print the results in one line separated by\n",
    "spaces"
   ]
  },
  {
   "cell_type": "code",
   "execution_count": 12,
   "id": "bc3dd6c3",
   "metadata": {},
   "outputs": [
    {
     "name": "stdout",
     "output_type": "stream",
     "text": [
      "Got_0 Got_1 Got_2 Got_3 Got_4 Got_5 Got_6 Got_7 Got_8 Got_9\n"
     ]
    }
   ],
   "source": [
    "# Create a generator expression\n",
    "got_strings = ('Got_' + str(i) for i in range(10))\n",
    "\n",
    "# Print all values in one line, separated by spaces\n",
    "print(*got_strings)\n"
   ]
  },
  {
   "cell_type": "markdown",
   "id": "ee645b2d",
   "metadata": {},
   "source": [
    "8. Define a Simple Function\n",
    "Define a function good() that returns this list:\n",
    "['Harry', 'Ron', 'Hermione']"
   ]
  },
  {
   "cell_type": "code",
   "execution_count": 13,
   "id": "b51f17cd",
   "metadata": {},
   "outputs": [
    {
     "name": "stdout",
     "output_type": "stream",
     "text": [
      "['Harry', 'Ron', 'Hermione']\n"
     ]
    }
   ],
   "source": [
    "def good():\n",
    "    return ['Harry', 'Ron', 'Hermione']\n",
    "\n",
    "# Calling the function and printing the result\n",
    "print(good())\n"
   ]
  },
  {
   "cell_type": "markdown",
   "id": "12d9f7be",
   "metadata": {},
   "source": [
    "9. Generator Function and Indexing\n",
    "Define a generator function get_odds() that yields odd numbers from 0 to 9.\n",
    "Use a loop or generator handling to find and print the third odd number generated."
   ]
  },
  {
   "cell_type": "code",
   "execution_count": 14,
   "id": "3c836b87",
   "metadata": {},
   "outputs": [
    {
     "name": "stdout",
     "output_type": "stream",
     "text": [
      "The third odd number is: 5\n"
     ]
    }
   ],
   "source": [
    "\n",
    "def get_odds():\n",
    "    for i in range(10):\n",
    "        if i % 2 != 0:\n",
    "            yield i\n",
    "\n",
    "odd_gen = get_odds()\n",
    "\n",
    "third_odd = next(odd_gen)  # First odd number\n",
    "third_odd = next(odd_gen)  # Second odd number\n",
    "third_odd = next(odd_gen)  # Third odd number\n",
    "\n",
    "print(\"The third odd number is:\", third_odd)\n"
   ]
  },
  {
   "cell_type": "markdown",
   "id": "01269755",
   "metadata": {},
   "source": [
    "10. Use zip() to Build a Dictionary\n",
    "Given:\n",
    "titles = ['Creature of Habit', 'Crewel Fate']\n",
    "plots = ['A nun turns into a monster', 'A haunted yarn shop']\n",
    "Use zip() to build and print a dictionary called movies that pairs each title with its plot."
   ]
  },
  {
   "cell_type": "code",
   "execution_count": 15,
   "id": "13749795",
   "metadata": {},
   "outputs": [
    {
     "name": "stdout",
     "output_type": "stream",
     "text": [
      "{'Creature of Habit': 'A nun turns into a monster', 'Crewel Fate': 'A haunted yarn shop'}\n"
     ]
    }
   ],
   "source": [
    "# Given lists\n",
    "titles = ['Creature of Habit', 'Crewel Fate']\n",
    "plots = ['A nun turns into a monster', 'A haunted yarn shop']\n",
    "\n",
    "# Use zip() to pair titles with plots and convert to a dictionary\n",
    "movies = dict(zip(titles, plots))\n",
    "\n",
    "# Print the resulting dictionary\n",
    "print(movies)\n"
   ]
  }
 ],
 "metadata": {
  "kernelspec": {
   "display_name": "base",
   "language": "python",
   "name": "python3"
  },
  "language_info": {
   "codemirror_mode": {
    "name": "ipython",
    "version": 3
   },
   "file_extension": ".py",
   "mimetype": "text/x-python",
   "name": "python",
   "nbconvert_exporter": "python",
   "pygments_lexer": "ipython3",
   "version": "3.12.7"
  }
 },
 "nbformat": 4,
 "nbformat_minor": 5
}
