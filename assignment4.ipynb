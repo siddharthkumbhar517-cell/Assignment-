{
 "cells": [
  {
   "cell_type": "markdown",
   "id": "745621b9",
   "metadata": {},
   "source": [
    "1. Question 1:\n",
    "Write a Python program that checks if a number entered by the user is even\n",
    "or odd. Print \"Even\" if the number is even and \"Odd\" if it is odd."
   ]
  },
  {
   "cell_type": "code",
   "execution_count": 2,
   "id": "f3daf1d9",
   "metadata": {},
   "outputs": [
    {
     "name": "stdout",
     "output_type": "stream",
     "text": [
      "even\n"
     ]
    }
   ],
   "source": [
    "num=int(input(\"enter the number\"))\n",
    "\n",
    "if num%2 == 0:\n",
    "    print(\"even\")\n",
    "else:\n",
    "    print(\"odd\")"
   ]
  },
  {
   "cell_type": "markdown",
   "id": "3c9ce666",
   "metadata": {},
   "source": [
    "2. Question 2:\n",
    "Create a program that prompts the user for their age and prints whether\n",
    "they are a child (0-12), teenager (13-19), or adult (20 and above)."
   ]
  },
  {
   "cell_type": "code",
   "execution_count": 3,
   "id": "d423d401",
   "metadata": {},
   "outputs": [
    {
     "name": "stdout",
     "output_type": "stream",
     "text": [
      "You are adult and your age is 44\n"
     ]
    }
   ],
   "source": [
    "age=int(input(\"enter your age\"))\n",
    "\n",
    "if(age <=12):\n",
    "    print(\"You are child and your age is\",age)\n",
    "elif(age <=19):\n",
    "    print(\"You are teenager and your age is\",age)\n",
    "elif(age >20):\n",
    "    print(\"You are adult and your age is\",age)\n"
   ]
  },
  {
   "cell_type": "markdown",
   "id": "15154380",
   "metadata": {},
   "source": [
    "3. Question 3:\n",
    "Write a program that takes two numbers as input from the user and prints\n",
    "which number is larger. If both numbers are equal, print \"Both numbers are\n",
    "equal.\""
   ]
  },
  {
   "cell_type": "code",
   "execution_count": 6,
   "id": "ac32d45d",
   "metadata": {},
   "outputs": [
    {
     "name": "stdout",
     "output_type": "stream",
     "text": [
      "both numbers are equal\n"
     ]
    }
   ],
   "source": [
    "a=int(input(\"enter the number\"))\n",
    "b=int(input(\"enter the number\"))\n",
    "\n",
    "if(a == b):\n",
    "    print(\"both numbers are equal\")\n",
    "elif( a > b):\n",
    "    print(\" the largest number is\",a)\n",
    "elif( b > a):\n",
    "    print(\" the largest number is\",b)\n"
   ]
  },
  {
   "cell_type": "markdown",
   "id": "275cfc08",
   "metadata": {},
   "source": [
    "4. Question 4:\n",
    "Create a program that checks if a user-entered password matches the\n",
    "string \"securePassword\". Print \"Access Granted\" if it matches, otherwise\n",
    "print \"Access Denied.\""
   ]
  },
  {
   "cell_type": "code",
   "execution_count": 8,
   "id": "67d50074",
   "metadata": {},
   "outputs": [
    {
     "name": "stdout",
     "output_type": "stream",
     "text": [
      "accesss granted\n"
     ]
    }
   ],
   "source": [
    "password =\"securePassword\"\n",
    "c_pass =input(\"enter the password\")\n",
    "\n",
    "if(password == c_pass):\n",
    "    print(\"accesss granted\")\n",
    "else:\n",
    "    print(\"access denied\")"
   ]
  },
  {
   "cell_type": "markdown",
   "id": "fc78cef2",
   "metadata": {},
   "source": [
    "5. Question 5:\n",
    "Write a program that takes a score from the user (0-100) and prints the\n",
    "corresponding grade:\n",
    "A for 90-100\n",
    "B for 80-89\n",
    "C for 70-79\n",
    "D for 60-69\n",
    "F for below 60"
   ]
  },
  {
   "cell_type": "code",
   "execution_count": 12,
   "id": "7545eadb",
   "metadata": {},
   "outputs": [
    {
     "name": "stdout",
     "output_type": "stream",
     "text": [
      " B grade\n"
     ]
    }
   ],
   "source": [
    "score =int(input(\"enter your score\"))\n",
    "\n",
    "if(score > 100):\n",
    "    print(\"please enter correct score\")\n",
    "elif(score >= 90):\n",
    "    print(\" A grade\")\n",
    "elif(score >= 80):\n",
    "    print(\" B grade\")\n",
    "elif(score >= 70):\n",
    "    print(\" C grade\")\n",
    "elif(score >= 60):\n",
    "    print(\" D grade\")\n",
    "elif(score < 60):\n",
    "    print(\" F grade\")"
   ]
  },
  {
   "cell_type": "markdown",
   "id": "a853ed32",
   "metadata": {},
   "source": [
    "6. Question 6:\n",
    "Create a program that asks the user for a number and checks if it is\n",
    "positive, negative, or zero. Print the corresponding message."
   ]
  },
  {
   "cell_type": "code",
   "execution_count": 16,
   "id": "d88255e1",
   "metadata": {},
   "outputs": [
    {
     "name": "stdout",
     "output_type": "stream",
     "text": [
      "this is positive numbe\n"
     ]
    }
   ],
   "source": [
    "num=int(input(\"enter the number\"))\n",
    "\n",
    "if(num == 0):\n",
    "    print(\"zero\")\n",
    "elif(num < 0):\n",
    "    print(\"this is negative numbe\")\n",
    "elif(num > 0):\n",
    "    print(\"this is positive numbe\")"
   ]
  },
  {
   "cell_type": "markdown",
   "id": "ffbe0996",
   "metadata": {},
   "source": [
    "7. Question 7:\n",
    "Write a program that takes three numbers from the user and determines the\n",
    "largest of the three. Print the largest number."
   ]
  },
  {
   "cell_type": "code",
   "execution_count": 23,
   "id": "411f49d0",
   "metadata": {},
   "outputs": [
    {
     "name": "stdout",
     "output_type": "stream",
     "text": [
      " c is greater number\n"
     ]
    }
   ],
   "source": [
    "a=int(input(\"enter the number\"))\n",
    "b=int(input(\"enter the number\"))\n",
    "c=int(input(\"enter the number\"))\n",
    "\n",
    "\n",
    "if(a>b and b>c):\n",
    "    print(\" A is greater number\",a)\n",
    "elif(b>c and b>a):\n",
    "    print(\" B is greater number\")\n",
    "elif(c>b and c>a):\n",
    "    print(\" c is greater number\")\n",
    "elif(a==b and b==c and a==c ):\n",
    "    print(\"all number are equal\")\n",
    "else:\n",
    "    print(\"RE-ENTER THE VALUES, SOMETHIN WENT WRONG!!\")"
   ]
  },
  {
   "cell_type": "markdown",
   "id": "30d92675",
   "metadata": {},
   "source": [
    "8. Question 8:\n",
    "Create a program that checks if a user-entered character is a vowel (a, e, i,\n",
    "o, u) or a consonant. Print the corresponding message."
   ]
  },
  {
   "cell_type": "code",
   "execution_count": 25,
   "id": "dc7eb9dc",
   "metadata": {},
   "outputs": [
    {
     "name": "stdout",
     "output_type": "stream",
     "text": [
      "this is consonent K\n"
     ]
    }
   ],
   "source": [
    "content =input(\"plz enter the character(UPPER CASE ONLY)\")  \n",
    "\n",
    "if(content == \"A\" or content == \"E\" or content == \"I\" or content == \"O\" or content == \"U\"):\n",
    "    print(\"this is vowels\",content)\n",
    "else:\n",
    "    print(\"this is consonent\",content)"
   ]
  },
  {
   "cell_type": "markdown",
   "id": "1f5bfdff",
   "metadata": {},
   "source": [
    "9. Question 9:\n",
    "Write a program that checks if a given year is a leap year. A year is a leap\n",
    "year if it is divisible by 4, except for years that are divisible by 100 but not\n",
    "divisible by 400."
   ]
  },
  {
   "cell_type": "code",
   "execution_count": 39,
   "id": "ee6fcee6",
   "metadata": {},
   "outputs": [
    {
     "name": "stdout",
     "output_type": "stream",
     "text": [
      "year is leap\n"
     ]
    }
   ],
   "source": [
    "year=1800\n",
    "if ((year % 4 == 0) and (year % 100 != 0) or (year % 400 != 0)):\n",
    "    print(\"year is leap\")\n",
    "else:\n",
    "    print(\"not leap\")\n",
    "\n",
    "\n"
   ]
  },
  {
   "cell_type": "markdown",
   "id": "fb9cf7d0",
   "metadata": {},
   "source": [
    "10. Question 10:\n",
    "Create a program that prompts the user for a temperature in Celsius and\n",
    "converts it to Fahrenheit. If the converted temperature is greater than 100°F,\n",
    "print \"It's boiling!\" Otherwise, print \"It's not boiling yet.\""
   ]
  },
  {
   "cell_type": "code",
   "execution_count": 40,
   "id": "7b753cd0",
   "metadata": {},
   "outputs": [
    {
     "name": "stdout",
     "output_type": "stream",
     "text": [
      "20.0°C is equal to 68.00°F\n",
      "It's not boiling yet.\n"
     ]
    }
   ],
   "source": [
    "\n",
    "celsius = float(input(\"Enter temperature in Celsius: \"))\n",
    "\n",
    "fahrenheit = (celsius * 9/5) + 32\n",
    "print(f\"{celsius}°C is equal to {fahrenheit:.2f}°F\")\n",
    "if fahrenheit > 100:\n",
    "    print(\"It's boiling!\")\n",
    "else:\n",
    "    print(\"It's not boiling yet.\")\n"
   ]
  }
 ],
 "metadata": {
  "kernelspec": {
   "display_name": "base",
   "language": "python",
   "name": "python3"
  },
  "language_info": {
   "codemirror_mode": {
    "name": "ipython",
    "version": 3
   },
   "file_extension": ".py",
   "mimetype": "text/x-python",
   "name": "python",
   "nbconvert_exporter": "python",
   "pygments_lexer": "ipython3",
   "version": "3.12.7"
  }
 },
 "nbformat": 4,
 "nbformat_minor": 5
}
