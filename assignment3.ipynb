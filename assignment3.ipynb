{
 "cells": [
  {
   "cell_type": "markdown",
   "id": "ed198ea7",
   "metadata": {},
   "source": [
    "1. Question 1:\n",
    "Create a variable x with the value 15 . Perform floored division by 4 and\n",
    "print the result. What is the difference between floored division and normal\n",
    "division?"
   ]
  },
  {
   "cell_type": "code",
   "execution_count": 1,
   "id": "e5b4b090",
   "metadata": {},
   "outputs": [
    {
     "name": "stdout",
     "output_type": "stream",
     "text": [
      "floor division of 15 by 4 is :  3\n",
      "floor division is divide a number and round the ansers nearest number\n"
     ]
    }
   ],
   "source": [
    "x=15\n",
    "floor_div =15//4\n",
    "print(\"floor division of 15 by 4 is : \",floor_div)\n",
    "print(\"floor division is divide a number and round the ansers nearest number\")"
   ]
  },
  {
   "cell_type": "markdown",
   "id": "fab67da8",
   "metadata": {},
   "source": [
    "2. Question 2:\n",
    "Write a program to calculate 8 ** 2 and 16 ** 0.5 . Print both results and\n",
    "describe what each represents."
   ]
  },
  {
   "cell_type": "code",
   "execution_count": null,
   "id": "8930bec5",
   "metadata": {},
   "outputs": [
    {
     "name": "stdout",
     "output_type": "stream",
     "text": [
      "64 this exponention operator its find power of number\n",
      "4.0 find the square root of 0,5\n"
     ]
    }
   ],
   "source": [
    "a=8 ** 2\n",
    "b=16 ** 0.5\n",
    "print(a,\"this exponention operator its find power of number\")\n",
    "print(b,\"find the square root of 0,5\")"
   ]
  },
  {
   "cell_type": "markdown",
   "id": "f2bfe875",
   "metadata": {},
   "source": [
    "3. Question 3:\n",
    "Use arithmetic operators to solve the following expression: 20 - 5 * 3 + 8 /\n",
    "4 . Use parentheses to make sure the addition happens before\n",
    "multiplication. Print the output."
   ]
  },
  {
   "cell_type": "code",
   "execution_count": 4,
   "id": "95a05d06",
   "metadata": {},
   "outputs": [
    {
     "name": "stdout",
     "output_type": "stream",
     "text": [
      "41.25\n"
     ]
    }
   ],
   "source": [
    "a=((20-5)*(3+8)/4)\n",
    "print(a)"
   ]
  },
  {
   "cell_type": "markdown",
   "id": "2ca89767",
   "metadata": {},
   "source": [
    "4. Question 4:\n",
    "Assign the value 7 to a variable num . Convert it to a float and print the\n",
    "result. What is the difference between 7 and 7.0 ?"
   ]
  },
  {
   "cell_type": "code",
   "execution_count": 7,
   "id": "0fb3a52c",
   "metadata": {},
   "outputs": [
    {
     "name": "stdout",
     "output_type": "stream",
     "text": [
      "7.0\n",
      "<class 'int'> <class 'float'>\n"
     ]
    }
   ],
   "source": [
    "num=7\n",
    "num_float = float(num) \n",
    "print(num_float)        \n",
    "print(type(num), type(num_float))"
   ]
  },
  {
   "cell_type": "markdown",
   "id": "459bfbb2",
   "metadata": {},
   "source": [
    "5. Question 5:\n",
    "Use a comparison operator to check if 100 is greater than 50 . Print the\n",
    "result and indicate what type of value this is."
   ]
  },
  {
   "cell_type": "code",
   "execution_count": 9,
   "id": "503c577a",
   "metadata": {},
   "outputs": [
    {
     "name": "stdout",
     "output_type": "stream",
     "text": [
      "<class 'int'> 100\n"
     ]
    }
   ],
   "source": [
    "a=100\n",
    "b=50\n",
    "if(a>b):\n",
    "    print(type(a),a)\n",
    "else:\n",
    "    print(type(b),b)"
   ]
  },
  {
   "cell_type": "markdown",
   "id": "b662206e",
   "metadata": {},
   "source": [
    "6. Question 6:\n",
    "Assign True to a variable is_sunny and False to is_weekend . Use logical\n",
    "operators to check if it is sunny and the weekend ( is_sunny and is_weekend ).\n",
    "Print the result."
   ]
  },
  {
   "cell_type": "code",
   "execution_count": 11,
   "id": "c71e88f5",
   "metadata": {},
   "outputs": [
    {
     "name": "stdout",
     "output_type": "stream",
     "text": [
      "False\n"
     ]
    }
   ],
   "source": [
    "is_sunny =True\n",
    "is_weekend = False\n",
    "\n",
    "\n",
    "result = is_sunny and is_weekend\n",
    "print(result) "
   ]
  },
  {
   "cell_type": "markdown",
   "id": "b1902686",
   "metadata": {},
   "source": [
    "7. Question 7:\n",
    "Create a variable password and set it to \"my_password123\" . Ask the user to input\n",
    "a password and print True if the input matches the value of password ,\n",
    "otherwise print False ."
   ]
  },
  {
   "cell_type": "code",
   "execution_count": 12,
   "id": "b100cdcd",
   "metadata": {},
   "outputs": [
    {
     "name": "stdout",
     "output_type": "stream",
     "text": [
      "False\n"
     ]
    }
   ],
   "source": [
    "password =\"my_password123\"\n",
    "passw=input(\"enter the password\")\n",
    "if password == passw:\n",
    "    print(\"True\")\n",
    "else:\n",
    "    print(\"False\")"
   ]
  },
  {
   "cell_type": "markdown",
   "id": "e668f305",
   "metadata": {},
   "source": [
    "8. Question 8:\n",
    "\n",
    "Assignment 3 2\n",
    "\n",
    "Assign the value 50 to a variable marks . Increment the value of marks by 5\n",
    "using the += operator, then print the new value."
   ]
  },
  {
   "cell_type": "code",
   "execution_count": 13,
   "id": "18923b1a",
   "metadata": {},
   "outputs": [
    {
     "name": "stdout",
     "output_type": "stream",
     "text": [
      "55\n"
     ]
    }
   ],
   "source": [
    "marks=50\n",
    "marks +=5\n",
    "print(marks)"
   ]
  },
  {
   "cell_type": "markdown",
   "id": "2104f3fa",
   "metadata": {},
   "source": [
    "9. Question 9:\n",
    "Write a program to check if the value of a = 0 and b = 10 satisfies a or b .\n",
    "Print the output and explain why it gives that result."
   ]
  },
  {
   "cell_type": "code",
   "execution_count": 14,
   "id": "8bd8c2f8",
   "metadata": {},
   "outputs": [
    {
     "name": "stdout",
     "output_type": "stream",
     "text": [
      "10\n"
     ]
    }
   ],
   "source": [
    "a=0\n",
    "b=10\n",
    "result = a or b\n",
    "print(result)  "
   ]
  },
  {
   "cell_type": "markdown",
   "id": "ff92f351",
   "metadata": {},
   "source": [
    "10. Question 10:\n",
    "Use not to negate the value of False and print the result. Explain what the\n",
    "not operator does in Python."
   ]
  },
  {
   "cell_type": "code",
   "execution_count": null,
   "id": "f9f6f525",
   "metadata": {},
   "outputs": [
    {
     "name": "stdout",
     "output_type": "stream",
     "text": [
      "flase\n"
     ]
    }
   ],
   "source": [
    "a=5\n",
    "b=5\n",
    "if a != b:\n",
    "    print(\"True\")\n",
    "else:\n",
    "    print(\"flase\")\n",
    "\n",
    "print(\" this operator always give opposite anwere mean true = false / false = true\")"
   ]
  }
 ],
 "metadata": {
  "kernelspec": {
   "display_name": "base",
   "language": "python",
   "name": "python3"
  },
  "language_info": {
   "codemirror_mode": {
    "name": "ipython",
    "version": 3
   },
   "file_extension": ".py",
   "mimetype": "text/x-python",
   "name": "python",
   "nbconvert_exporter": "python",
   "pygments_lexer": "ipython3",
   "version": "3.12.7"
  }
 },
 "nbformat": 4,
 "nbformat_minor": 5
}
